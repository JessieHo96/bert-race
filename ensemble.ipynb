{
 "cells": [
  {
   "cell_type": "code",
   "execution_count": 48,
   "metadata": {},
   "outputs": [
    {
     "name": "stdout",
     "output_type": "stream",
     "text": [
      "(4887, 4)\n"
     ]
    }
   ],
   "source": [
    "# Ensemble models of base,large,eda and DCN\n",
    "\n",
    "import numpy as np\n",
    "\n",
    "model = [\"base.npy\",\"large.npy\",\"eda.npy\",\"dcn.npy\"]\n",
    "\n",
    "base = np.load(model[0])\n",
    "large = np.load(model[1])\n",
    "eda = np.load(model[2])\n",
    "dcn = np.load(model[3])\n",
    "label = np.load(\"labels.npy\")\n",
    "\n",
    "print(base.shape)\n",
    "maxp = 0\n",
    "maxw = None"
   ]
  },
  {
   "cell_type": "code",
   "execution_count": 52,
   "metadata": {},
   "outputs": [
    {
     "name": "stdout",
     "output_type": "stream",
     "text": [
      "The accuracy is: 0.6417024759566196 with the weight: [0.2        0.25454545 0.15454545 0.39090909]\n"
     ]
    }
   ],
   "source": [
    "for i in range(100):\n",
    "    weight = np.random.randint(1,100,size=4)\n",
    "    w = weight/np.sum(weight)\n",
    "    value = w[0]*base + w[1]*large + w[2]*eda + w[3]*dcn\n",
    "\n",
    "    correct = np.mean(np.argmax(value,axis=1)==label)\n",
    "    if correct > maxp:\n",
    "        maxp = correct\n",
    "        maxw = w\n",
    "\n",
    "print(\"The accuracy is:\",maxp,\"with the weight:\",maxw)"
   ]
  },
  {
   "cell_type": "code",
   "execution_count": null,
   "metadata": {},
   "outputs": [],
   "source": []
  }
 ],
 "metadata": {
  "kernelspec": {
   "display_name": "Python (cs231n)",
   "language": "python",
   "name": "cs231n"
  },
  "language_info": {
   "codemirror_mode": {
    "name": "ipython",
    "version": 3
   },
   "file_extension": ".py",
   "mimetype": "text/x-python",
   "name": "python",
   "nbconvert_exporter": "python",
   "pygments_lexer": "ipython3",
   "version": "3.6.5"
  }
 },
 "nbformat": 4,
 "nbformat_minor": 2
}

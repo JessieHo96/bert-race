{
 "cells": [
  {
   "cell_type": "code",
   "execution_count": 8,
   "metadata": {},
   "outputs": [
    {
     "name": "stdout",
     "output_type": "stream",
     "text": [
      "(4887, 4) [1 3 0 ... 2 2 1]\n"
     ]
    }
   ],
   "source": [
    "# Ensemble models of base,large,eda and DCN\n",
    "\n",
    "import numpy as np\n",
    "\n",
    "model = [\"base.npy\",\"logits.npy\",\"eda.npy\",\"dcn.npy\"]\n",
    "\n",
    "base = np.load(model[0])\n",
    "large = np.load(model[1])\n",
    "eda = np.load(model[2])\n",
    "dcn = np.load(model[3])\n",
    "label = np.load(\"labels.npy\")\n",
    "\n",
    "print(base.shape,label)\n",
    "maxp = 0\n",
    "maxw = None\n",
    "ensemble = None"
   ]
  },
  {
   "cell_type": "code",
   "execution_count": 9,
   "metadata": {},
   "outputs": [],
   "source": [
    "def softmax(x):\n",
    "    \"\"\"Compute softmax values for each sets of scores in x.\"\"\"\n",
    "    ex = np.exp(x - np.max(x))\n",
    "    return ex / np.sum(ex,axis=1,keepdims=True)\n",
    "\n",
    "base = softmax(base)\n",
    "large = softmax(large)\n",
    "dcn = softmax(dcn)\n",
    "eda = softmax(eda)"
   ]
  },
  {
   "cell_type": "code",
   "execution_count": 10,
   "metadata": {},
   "outputs": [
    {
     "name": "stdout",
     "output_type": "stream",
     "text": [
      "The accuracy is: 0.6687129118068345 with the weight: [0.35416667 0.046875   0.10416667 0.49479167]\n"
     ]
    }
   ],
   "source": [
    "for i in range(100000):\n",
    "    weight = np.random.randint(1,100,size=4)\n",
    "    w = weight/np.sum(weight)\n",
    "    value = w[0]*base + w[1]*large + w[2]*eda + w[3]*dcn\n",
    "\n",
    "    correct = np.mean(np.argmax(value,axis=1)==label)\n",
    "    if correct > maxp:\n",
    "        maxp = correct\n",
    "        maxw = w\n",
    "        ensemble = value\n",
    "print(\"The accuracy is:\",maxp,\"with the weight:\",maxw)"
   ]
  },
  {
   "cell_type": "code",
   "execution_count": 13,
   "metadata": {},
   "outputs": [
    {
     "name": "stdout",
     "output_type": "stream",
     "text": [
      "[1 0 0 3 3 1 3 2 2 1 2 1 2 3 2 1 2 3 3 3] \n",
      " [1 0 0 3 0 1 0 2 2 1 0 1 2 3 2 1 2 3 2 3] \n",
      " [1 3 0 1 2 1 0 2 1 0 0 1 2 2 2 1 2 3 2 3]\n"
     ]
    }
   ],
   "source": [
    "import numpy as np\n",
    "\n",
    "base_preds = (np.argmax(base,axis=1))\n",
    "ensem_preds = (np.argmax(ensemble,axis=1))\n",
    "\n",
    "print(base_preds[:20],'\\n',ensem_preds[:20],\"\\n\",label[:20])"
   ]
  },
  {
   "cell_type": "code",
   "execution_count": null,
   "metadata": {},
   "outputs": [],
   "source": []
  }
 ],
 "metadata": {
  "kernelspec": {
   "display_name": "Python (cs231n)",
   "language": "python",
   "name": "cs231n"
  },
  "language_info": {
   "codemirror_mode": {
    "name": "ipython",
    "version": 3
   },
   "file_extension": ".py",
   "mimetype": "text/x-python",
   "name": "python",
   "nbconvert_exporter": "python",
   "pygments_lexer": "ipython3",
   "version": "3.6.5"
  }
 },
 "nbformat": 4,
 "nbformat_minor": 2
}
